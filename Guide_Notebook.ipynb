{
 "cells": [
  {
   "cell_type": "markdown",
   "metadata": {},
   "source": [
    "# Notebook to accompany \"A guide to LIGO-Virgo detector noise\"\n",
    "\n",
    "This notebook is intended to reproduce some plots from the paper \"A guide to LIGO-Virgo detector noise and extratraction of transient gravitational-wave signals\" (arXiv:1908.11170)\n",
    "\n",
    "The notebook was tested using python 3.7.  In particular, we used the conda enviornment \"ligo-py37\", described here:\n",
    "https://docs.ligo.org/lscsoft/conda/environments/#available-environments\n",
    "\n",
    "This notebook is intended as an educational demonstration to reproduce some of the figures in the paper [\"A guide to LIGO-Virgo detector noise and extraction of transient gravitational-wave signals\"](https://inspirehep.net/record/1751757) , \n",
    "and may differ from the [C library code](https://doi.org/10.5281/zenodo.3380539) that has been used to produce the figures of the paper. Additional open source software libraries used by the LIGO Scientific Collaboration and Virgo Collaboration to produce published results are also available. See, for example, the list of open source libraries at https://www.gw-openscience.org/software/"
   ]
  },
  {
   "cell_type": "markdown",
   "metadata": {},
   "source": [
    "## Download data files\n",
    "\n",
    "Download each of the following files into the directory where you would like to run the notebook.  Most of these data files are described at: \n",
    "\n",
    "https://www.gw-openscience.org/events/GW150914/"
   ]
  },
  {
   "cell_type": "code",
   "execution_count": null,
   "metadata": {
    "ExecuteTime": {
     "end_time": "2021-07-20T09:31:25.109345Z",
     "start_time": "2021-07-20T09:31:12.618869Z"
    }
   },
   "outputs": [],
   "source": [
    "# -- Helper python module to open LIGO data files\n",
    "! wget -q -N https://www.gw-openscience.org/static/sample_code/readligo.py \n",
    "    \n",
    "# -- Download 4096 second data files around GW150914\n",
    "! wget -q -N https://www.gw-openscience.org/GW150914data/L-L1_LOSC_4_V2-1126257414-4096.hdf5\n",
    "! wget -q -N https://www.gw-openscience.org/GW150914data/H-H1_LOSC_4_V2-1126257414-4096.hdf5\n",
    "    \n",
    "# -- Download 32 second data files around GW150914\n",
    "! wget -q -N https://www.gw-openscience.org/GW150914data/H-H1_LOSC_4_V2-1126259446-32.hdf5\n",
    "! wget -q -N https://www.gw-openscience.org/GW150914data/L-L1_LOSC_4_V2-1126259446-32.hdf5\n",
    "    \n",
    "# -- Download waveform template\n",
    "! wget -q -N https://www.gw-openscience.org/GW150914data/P150914/fig2-unfiltered-waveform-H.txt\n",
    "    \n",
    "# -- Download data from Figure 1 of GW150914 detection paper\n",
    "! wget -q -N https://www.gw-openscience.org/GW150914data/P150914/fig1-observed-H.txt\n",
    "! wget -q -N https://www.gw-openscience.org/GW150914data/P150914/fig1-residual-H.txt\n",
    "! wget -q -N https://www.gw-openscience.org/GW150914data/P150914/fig1-observed-L.txt\n",
    "! wget -q -N https://www.gw-openscience.org/GW150914data/P150914/fig1-residual-L.txt"
   ]
  },
  {
   "cell_type": "markdown",
   "metadata": {},
   "source": [
    "## Import needed python modules\n",
    "\n",
    "Most of these are common python packages, and can be easily installed using pip.  \n",
    "\n",
    "The notebook was tested using python 3.7.  In particular, we used the conda enviornment \"ligo-py37\", described here:\n",
    "https://docs.ligo.org/lscsoft/conda/environments/#available-environments"
   ]
  },
  {
   "cell_type": "code",
   "execution_count": 1,
   "metadata": {
    "ExecuteTime": {
     "end_time": "2021-07-27T08:36:05.640417Z",
     "start_time": "2021-07-27T08:36:05.474835Z"
    }
   },
   "outputs": [],
   "source": [
    "# some weird kernel reason, need a separate block\n",
    "import numpy as np"
   ]
  },
  {
   "cell_type": "code",
   "execution_count": 2,
   "metadata": {
    "ExecuteTime": {
     "end_time": "2021-07-27T08:36:07.269278Z",
     "start_time": "2021-07-27T08:36:05.818571Z"
    }
   },
   "outputs": [],
   "source": [
    "# Standard python numerical analysis imports:\n",
    "import torch\n",
    "# Array API from Aaron's NEP 47 PR, not in the numpy-dev environment to import this currently\n",
    "# import numpy._array_api as xp \n",
    "import scipy\n",
    "from scipy import signal\n",
    "from scipy.interpolate import interp1d\n",
    "from scipy.signal import butter, filtfilt\n",
    "# !pip install h5py\n",
    "import h5py\n",
    "import json\n",
    "\n",
    "# plotting items\n",
    "%matplotlib inline\n",
    "import matplotlib\n",
    "import matplotlib.pyplot as plt\n",
    "import matplotlib.mlab as mlab\n",
    "\n",
    "# -- Set some parameters that control how plots are displayed\n",
    "plt.rcParams['figure.figsize'] = [5, 3]\n",
    "plt.rcParams['lines.linewidth'] = .75\n",
    "\n",
    "# LIGO-specific readligo.py \n",
    "# Download from https://www.gw-openscience.org/static/sample_code/readligo.py\n",
    "# Note: This has been edited for showing pytorch demo with array-api\n",
    "import readligo as rl"
   ]
  },
  {
   "cell_type": "markdown",
   "metadata": {},
   "source": [
    "## Array-API Demo Background"
   ]
  },
  {
   "cell_type": "code",
   "execution_count": 12,
   "metadata": {
    "ExecuteTime": {
     "end_time": "2021-07-27T08:40:38.337601Z",
     "start_time": "2021-07-27T08:40:38.327613Z"
    }
   },
   "outputs": [],
   "source": [
    "from typing import Optional\n",
    "\n",
    "def __array_namespace__(Array, /, *, api_version: Optional[str] = None) -> object:\n",
    "    if api_version is not None:\n",
    "        raise ValueError(\"Unrecognized array API version\")\n",
    "    import torch\n",
    "    return torch\n",
    "\n",
    "# Monkey-Patch the protocol to torch Tensor class\n",
    "setattr(torch.Tensor, '__array_namespace__', __array_namespace__)\n",
    "\n",
    "def get_namespace(*xs):\n",
    "    # `xs` contains one or more arrays, or possibly Python scalars (accepting\n",
    "    # those is a matter of taste, but doesn't seem unreasonable).\n",
    "    namespaces = {\n",
    "        x.__array_namespace__() if hasattr(x, '__array_namespace__')\n",
    "        else None for x in xs if not isinstance(x, (bool, int, float, complex))\n",
    "    }\n",
    "    if not namespaces:\n",
    "        # one could special-case np.ndarray above or use np.asarray here if\n",
    "        # older numpy versions need to be supported.\n",
    "        raise ValueError(\"Unrecognized array input\")\n",
    "    if len(namespaces) != 1:\n",
    "        raise ValueError(f\"Multiple namespaces for array inputs: {namespaces}\")\n",
    "    xp, = namespaces\n",
    "    if xp is None:\n",
    "        raise ValueError(\"The input is not a supported array type\")\n",
    "\n",
    "    if xp == torch:\n",
    "        xp.asarray = torch.as_tensor\n",
    "\n",
    "    return xp"
   ]
  },
  {
   "cell_type": "code",
   "execution_count": 13,
   "metadata": {
    "ExecuteTime": {
     "end_time": "2021-07-27T08:40:39.728616Z",
     "start_time": "2021-07-27T08:40:39.725639Z"
    }
   },
   "outputs": [],
   "source": [
    "# def __array_namespace__(Array, /, *, api_version: Optional[str] = None) -> object:\n",
    "#     if api_version is not None:\n",
    "#         raise ValueError(\"Unrecognized array API version\")\n",
    "#     import numpy\n",
    "#     return numpy\n",
    "\n",
    "# setattr(np.array, '__array_namespace__', __array_namespace__)\n",
    "\n",
    "# xp = get_namespace(np.arange(3))"
   ]
  },
  {
   "cell_type": "code",
   "execution_count": 14,
   "metadata": {
    "ExecuteTime": {
     "end_time": "2021-07-27T08:40:39.931301Z",
     "start_time": "2021-07-27T08:40:39.923488Z"
    }
   },
   "outputs": [
    {
     "name": "stdout",
     "output_type": "stream",
     "text": [
      "<module 'torch' from '/Users/gollum/anaconda3/envs/scipy-dv/lib/python3.9/site-packages/torch/__init__.py'> tensor([True])\n"
     ]
    }
   ],
   "source": [
    "# Test array-api get_namespace working\n",
    "t = torch.arange(3)\n",
    "xp = get_namespace(t)\n",
    "print(xp, torch.arange(1) == xp.arange(1))"
   ]
  },
  {
   "cell_type": "markdown",
   "metadata": {},
   "source": [
    "## Calculate the noise power spectral density (PSD)"
   ]
  },
  {
   "cell_type": "code",
   "execution_count": 15,
   "metadata": {
    "ExecuteTime": {
     "end_time": "2021-07-27T08:40:40.801879Z",
     "start_time": "2021-07-27T08:40:40.788841Z"
    }
   },
   "outputs": [
    {
     "name": "stdout",
     "output_type": "stream",
     "text": [
      "Using sample rate of 4096 Hz found in file: H-H1_LOSC_4_V2-1126257414-4096.hdf5\n"
     ]
    }
   ],
   "source": [
    "# these 4096 second files are useful for computing more accurate psds\n",
    "large_data_filenames = {'GW150914': 'LOSC_4_V2-1126257414-4096.hdf5'}\n",
    "fn_H1 = 'H-H1_' + large_data_filenames['GW150914']\n",
    "fn_L1 = 'L-L1_' + large_data_filenames['GW150914']\n",
    "\n",
    "# this is the approximate event time which is used in the papers\n",
    "time_center = 1126259462\n",
    "\n",
    "# get sample rate from the H1 data file\n",
    "with h5py.File(fn_H1, 'r') as hdf_file:\n",
    "    dt = hdf_file['strain/Strain'].attrs['Xspacing']\n",
    "fs = int(1.0/dt)\n",
    "print(\"Using sample rate of {0} Hz found in file: {1}\".format(fs, fn_H1))"
   ]
  },
  {
   "cell_type": "code",
   "execution_count": 36,
   "metadata": {
    "ExecuteTime": {
     "end_time": "2021-07-27T10:07:36.496695Z",
     "start_time": "2021-07-27T10:07:36.480254Z"
    }
   },
   "outputs": [],
   "source": [
    "def get_full_psds(eventnames, large_data_filenames,\n",
    "                  make_plots=False, plot_others=False):\n",
    "    \"\"\"Obtains full 1024 second psds for all the events specified. Uses the Welch\n",
    "    average technique, along with other less accurate techniques if\n",
    "    specified. Can also plot the psd obtained.\n",
    "    \n",
    "    Args: \n",
    "        eventnames (list): list of events to get psds for\n",
    "        large_datafilenames (dict): dictionary whose keys are the eventnames \n",
    "            and whose values are the filenames of the large amounts of strain\n",
    "            data used, without the added 'H-<det>_'\n",
    "        make_plots (bool, optional): if set to True, plot psd data\n",
    "        plot_others (bool, optional): if set to True, also obtain psd data \n",
    "            without averaging as well as with no window\n",
    "    \n",
    "    Returns:\n",
    "        dict: A dictionary containing psds for each detector for each event \n",
    "            specified in eventnames.\n",
    "    \"\"\"\n",
    "\n",
    "    large_data_psds = {}\n",
    "    for eventname in eventnames:\n",
    "        large_data_psds[eventname] = {'H1': [], 'L1': []}\n",
    "\n",
    "        # get filename\n",
    "        fn_H1 = 'H-H1_' + large_data_filenames[eventname]\n",
    "        fn_L1 = 'L-L1_' + large_data_filenames[eventname]\n",
    "\n",
    "        # get strain data\n",
    "        # set the use_torch argument for loading data in pytorch tensors\n",
    "        strain_H1, time_H1, chan_dict_H1 = rl.loaddata(fn_H1, 'H1', use_torch=True)\n",
    "        strain_L1, time_L1, chan_dict_L1 = rl.loaddata(fn_L1, 'L1', use_torch=True)\n",
    "        \n",
    "        # validate the data loaded is actually\n",
    "        # as torch tensors and python dict\n",
    "        print(type(strain_H1), type(time_H1), type(chan_dict_H1))\n",
    "        print(type(strain_L1), type(time_L1), type(chan_dict_L1))\n",
    "\n",
    "        # both H1 and L1 will have the same time vector, so:\n",
    "        time = time_H1\n",
    "\n",
    "        indxt_around = xp.where((time >= time_center - 512) & (\n",
    "            time < time_center + 512))\n",
    "        \n",
    "\n",
    "        # number of sample for the fast fourier transform:\n",
    "        NFFT = 4 * fs           # Use 4 seconds of data for each fourier transform\n",
    "        NOVL = 1 * NFFT / 2     # The number of points of overlap between segments used in Welch averaging\n",
    "        psd_window = scipy.signal.tukey(NFFT, alpha=1./4)\n",
    "\n",
    "\n",
    "        ##########################################\n",
    "        # Replace mlab.psd with scipy.signal.welch\n",
    "        ##########################################\n",
    "#         Pxx_H1, freqs = mlab.psd(strain_H1[indxt_around], Fs=fs, NFFT=NFFT,\n",
    "#                                  window=psd_window, noverlap=NOVL)\n",
    "#         Pxx_L1, freqs= mlab.psd(strain_L1[indxt_around], Fs=fs, NFFT=NFFT, \n",
    "#                                 window=psd_window, noverlap=NOVL)\n",
    "\n",
    "        freqs, Pxx_H1 = scipy.signal.welch(strain_H1[indxt_around], fs=fs, nfft=NFFT,\n",
    "                                 window=psd_window, noverlap=NOVL)\n",
    "        freqs, Pxx_L1 = scipy.signal.welch(strain_L1[indxt_around], fs=fs, nfft=NFFT, \n",
    "                                window=psd_window, noverlap=NOVL)                \n",
    "\n",
    "        if (plot_others):\n",
    "            # smaller window if we're not doing Welch's method\n",
    "            short_indxt_away = xp.where((time >= time_center - 2) & (\n",
    "                time < time_center + 2))\n",
    "            # psd using a tukey window but no welch averaging\n",
    "#             tukey_Pxx_H1, tukey_freqs = mlab.psd(\n",
    "#                 strain_H1[short_indxt_away], Fs=fs, NFFT=NFFT, window=psd_window)\n",
    "            tukey_freqs, tukey_Pxx_H1 = scipy.signal.welch(strain_H1[short_indxt_away],\n",
    "                                                           fs=fs, nfft=NFFT, window=psd_window)\n",
    "            \n",
    "\n",
    "# NOT COMPATIBLE YET\n",
    "# TODO: See how no window setting can be achieved?\n",
    "#######################################################################################\n",
    "            # psd with no window, no averaging\n",
    "            # not sure how to make this work in scipy. what is the alternative here?\n",
    "            # check if this is correct???\n",
    "#             nowin_freqs, nowin_Pxx_H1 = scipy.signal.welch(strain_H1[short_indxt_away],\n",
    "#                                                            fs=fs, nfft=NFFT, window=strain_H1[short_indxt_away])\n",
    "            nowin_Pxx_H1, nowin_freqs = mlab.psd(\n",
    "                strain_H1[short_indxt_away].numpy(), Fs=fs, NFFT=NFFT, \n",
    "                window=mlab.window_none)\n",
    "\n",
    "        nowin_freqs = torch.from_numpy(nowin_freqs)\n",
    "        nowin_Pxx_H1 = torch.from_numpy(nowin_Pxx_H1)\n",
    "\n",
    "#######################################################################################\n",
    "\n",
    "        # We will use interpolations of the PSDs computed above for whitening:\n",
    "        psd_H1 = interp1d(freqs, Pxx_H1)\n",
    "        psd_L1 = interp1d(freqs, Pxx_L1)\n",
    "\n",
    "        large_data_psds[eventname]['H1'] = psd_H1\n",
    "        large_data_psds[eventname]['L1'] = psd_L1\n",
    "\n",
    "        if make_plots:\n",
    "            plt.figure(figsize=(8, 5))\n",
    "            # scale x and y axes\n",
    "            plt.xscale('log', basex=2)\n",
    "            plt.yscale('log', basey=10)\n",
    "\n",
    "            # plot nowindow, tukey, welch together \n",
    "            plt.plot(nowin_freqs.numpy(), nowin_Pxx_H1.numpy(),'purple',label= 'No Window',\n",
    "                     alpha=.8, linewidth=.5)\n",
    "            plt.plot(tukey_freqs.numpy(), tukey_Pxx_H1.numpy(),'green',label='Tukey Window',\n",
    "                     alpha=.8, linewidth=.5)\n",
    "            plt.plot(freqs.numpy(), Pxx_H1.numpy(),'black',label='Welch Average', alpha=.8,\n",
    "                     linewidth=.5)\n",
    "\n",
    "            # plot 1/f^2\n",
    "            # give it the right starting scale to fit with the rest of the plots\n",
    "            # don't include zero frequency\n",
    "            inverse_square = xp.asarray(list(map(lambda f: 1 / (f**2), \n",
    "                                    nowin_freqs[1:])))\n",
    "            # inverse starts at 1 to take out 1/0\n",
    "            scale_index = 500 # chosen by eye to fit the plot\n",
    "            scale = nowin_Pxx_H1[scale_index]  / inverse_square[scale_index]\n",
    "            plt.plot(nowin_freqs[1:].numpy(), inverse_square.numpy() * scale.numpy(),'red',\n",
    "                     label= r'$1 / f^2$', alpha=.8, linewidth=1)\n",
    "\n",
    "            plt.axis([20, 512, 1e-48, 1e-41])\n",
    "            plt.ylabel('Sn(t)')\n",
    "            plt.xlabel('Freq (Hz)')\n",
    "            plt.legend(loc='upper center')\n",
    "            plt.title('LIGO PSD data near ' + eventname + ' at H1')\n",
    "            plt.show()\n",
    "\n",
    "    return large_data_psds"
   ]
  },
  {
   "cell_type": "code",
   "execution_count": 37,
   "metadata": {
    "ExecuteTime": {
     "end_time": "2021-07-27T10:07:40.340439Z",
     "start_time": "2021-07-27T10:07:36.907875Z"
    },
    "scrolled": true
   },
   "outputs": [
    {
     "name": "stdout",
     "output_type": "stream",
     "text": [
      "<class 'torch.Tensor'> <class 'torch.Tensor'> <class 'dict'>\n",
      "<class 'torch.Tensor'> <class 'torch.Tensor'> <class 'dict'>\n"
     ]
    },
    {
     "name": "stderr",
     "output_type": "stream",
     "text": [
      "/var/folders/zk/wctnbpzn05bgl3h0h8mn0q140000gn/T/ipykernel_46743/1367614030.py:103: MatplotlibDeprecationWarning: The 'basex' parameter of __init__() has been renamed 'base' since Matplotlib 3.3; support for the old name will be dropped two minor releases later.\n",
      "  plt.xscale('log', basex=2)\n",
      "/var/folders/zk/wctnbpzn05bgl3h0h8mn0q140000gn/T/ipykernel_46743/1367614030.py:104: MatplotlibDeprecationWarning: The 'basey' parameter of __init__() has been renamed 'base' since Matplotlib 3.3; support for the old name will be dropped two minor releases later.\n",
      "  plt.yscale('log', basey=10)\n"
     ]
    },
    {
     "data": {
      "image/png": "[encoded data removed]",
      "text/plain": [
       "<Figure size 576x360 with 1 Axes>"
      ]
     },
     "metadata": {
      "needs_background": "light"
     },
     "output_type": "display_data"
    }
   ],
   "source": [
    "eventnames = ['GW150914']\n",
    "large_data_psds = get_full_psds(eventnames, large_data_filenames,\n",
    "                                make_plots=True, plot_others=True)"
   ]
  },
  {
   "cell_type": "markdown",
   "metadata": {},
   "source": [
    "Note that inadequate windowing of these strongly colored data produces a psd that \n",
    "is entirely dominated by \"spectral leakage\",\n",
    "https://en.wikipedia.org/wiki/Spectral_leakage,\n",
    "and inadequate averaging leads to noise fluctuations that contaminate the estimated PSD.\n"
   ]
  },
  {
   "cell_type": "markdown",
   "metadata": {},
   "source": [
    "## Whiten and Bandpass Functions\n",
    "\n",
    "Now we'll create some helper functions to whiten and bandpass data within a\n",
    "given frequency band. These allow us to better see some signal in our data:"
   ]
  },
  {
   "cell_type": "code",
   "execution_count": null,
   "metadata": {
    "ExecuteTime": {
     "end_time": "2021-07-13T09:47:17.005514Z",
     "start_time": "2021-07-13T09:47:16.998473Z"
    }
   },
   "outputs": [],
   "source": [
    "def whiten(strain, interp_psd, dt, phase_shift=0, time_shift=0):\n",
    "    \"\"\"Whitens strain data given the psd and sample rate, also applying a phase\n",
    "    shift and time shift.\n",
    "\n",
    "    Args:\n",
    "        strain (ndarray): strain data\n",
    "        interp_psd (interpolating function): function to take in freqs and output \n",
    "            the average power at that freq \n",
    "        dt (float): sample time interval of data\n",
    "        phase_shift (float, optional): phase shift to apply to whitened data\n",
    "        time_shift (float, optional): time shift to apply to whitened data (s)\n",
    "    \n",
    "    Returns:\n",
    "        ndarray: array of whitened strain data\n",
    "    \"\"\"\n",
    "    Nt = len(strain)\n",
    "    # take the fourier transform of the data\n",
    "    freqs = xp.fft.rfftfreq(Nt, dt)\n",
    "\n",
    "    # whitening: transform to freq domain, divide by square root of psd, then\n",
    "    # transform back, taking care to get normalization right.\n",
    "    hf = xp.fft.rfft(strain)\n",
    "    \n",
    "    # apply time and phase shift\n",
    "    hf = hf * xp.exp(-1.j * 2 * np.pi * time_shift * freqs - 1.j * phase_shift)\n",
    "    norm = 1./xp.sqrt(1./(dt*2))\n",
    "    white_hf = hf / xp.sqrt(interp_psd(freqs)) * norm\n",
    "    white_ht = xp.fft.irfft(white_hf, n=Nt)\n",
    "    return white_ht\n",
    "\n",
    "def bandpass(strain, fband, fs):\n",
    "    \"\"\"Bandpasses strain data using a butterworth filter.\n",
    "    \n",
    "    Args:\n",
    "        strain (ndarray): strain data to bandpass\n",
    "        fband (ndarray): low and high-pass filter values to use\n",
    "        fs (float): sample rate of data\n",
    "    \n",
    "    Returns:\n",
    "        ndarray: array of bandpassed strain data\n",
    "    \"\"\"\n",
    "    # TODO: Figure way to make butter compatible\n",
    "    bb, ab = butter(4, [fband[0]*2./fs, fband[1]*2./fs], btype='band')\n",
    "    normalization = xp.sqrt((fband[1]-fband[0])/(fs/2))\n",
    "    # TODO: Figure way to make filtfilt compatible\n",
    "    strain_bp = filtfilt(bb, ab, strain) / normalization\n",
    "    return strain_bp"
   ]
  },
  {
   "cell_type": "markdown",
   "metadata": {},
   "source": [
    "## Plot strain data that has been windowed, bandpassed, and whitened"
   ]
  },
  {
   "cell_type": "code",
   "execution_count": null,
   "metadata": {
    "ExecuteTime": {
     "end_time": "2021-07-13T09:47:18.480427Z",
     "start_time": "2021-07-13T09:47:18.472192Z"
    }
   },
   "outputs": [],
   "source": [
    "def plot_strain_data(fn_H1, fn_L1, eventname):\n",
    "    \"\"\"Plots windowed, whitened, and bandpassed strain vs time near a given\n",
    "    event.\n",
    "\n",
    "    Args:\n",
    "        fn_H1: name of H1 data file\n",
    "        fn_L1: name of L1 data file\n",
    "        eventname: name of the event\n",
    "    \"\"\"\n",
    "    \n",
    "    fband = [35.0, 350.0]\n",
    "\n",
    "    strain_H1, time_H1, chan_dict_H1 = rl.loaddata(fn_H1, 'H1')\n",
    "    strain_L1, time_L1, chan_dict_L1 = rl.loaddata(fn_L1, 'L1')\n",
    "\n",
    "    # both H1 and L1 will have the same time vector\n",
    "    time = time_H1\n",
    "    \n",
    "    # create our 4 second data window\n",
    "    window_len = 4*fs\n",
    "    dwindow = scipy.signal.tukey(window_len, alpha=1./4)\n",
    "\n",
    "    # plot original strain data\n",
    "    # only care about 4s around event\n",
    "    plt.figure(figsize=(8, 8))\n",
    "    plt.subplot(4, 1, 1)\n",
    "    indxt = xp.where((time >= time_center - 2) & (time < time_center + 2))\n",
    "    plt.xlim([-2, 2])\n",
    "    plt.plot(time[indxt] - time_center, strain_H1[indxt], 'blue', \n",
    "             label='Hanford Data', linewidth=.5)\n",
    "    plt.legend()\n",
    "\n",
    "    # plot windowed data\n",
    "    plt.subplot(4, 1, 2)\n",
    "    strain_windowed = dwindow * strain_H1[indxt]\n",
    "    plt.xlim([-2, 2])\n",
    "    plt.plot(time[indxt] - time_center, strain_windowed, 'green', \n",
    "             label='Windowed Data', linewidth=.5)\n",
    "    plt.legend()\n",
    "    \n",
    "    \n",
    "    # plot whitened data\n",
    "    plt.subplot(4, 1, 3)\n",
    "    strain_whitened = whiten(strain_windowed, \n",
    "                             large_data_psds[eventname]['H1'], dt)\n",
    "    plt.plot(time[indxt] - time_center, strain_whitened, 'red', \n",
    "             label='Whitened Data', linewidth=.5)\n",
    "    plt.legend()\n",
    "\n",
    "    # plot bandpassed data\n",
    "    plt.subplot(4, 1, 4)\n",
    "    strain_bp = bandpass(strain_whitened, fband, fs)\n",
    "    plt.xlim([-2, 2])\n",
    "    plt.plot(time[indxt] - time_center, strain_bp, 'black', \n",
    "             label='Bandpassed Data', linewidth=.5)\n",
    "\n",
    "    plt.legend()\n",
    "    plt.yticks([-6, -3, 0, 3, 6, 9])\n",
    "    plt.tight_layout()\n",
    "    plt.xlim([-2, 2])\n",
    "    plt.ylim([-8, 8])\n",
    "    plt.show()"
   ]
  },
  {
   "cell_type": "code",
   "execution_count": null,
   "metadata": {
    "ExecuteTime": {
     "end_time": "2021-07-13T09:47:21.685537Z",
     "start_time": "2021-07-13T09:47:19.452529Z"
    }
   },
   "outputs": [],
   "source": [
    "plot_strain_data(fn_H1, fn_L1, 'GW150914')"
   ]
  },
  {
   "cell_type": "markdown",
   "metadata": {},
   "source": [
    "## Method for getting whitened/banspassed event data"
   ]
  },
  {
   "cell_type": "code",
   "execution_count": null,
   "metadata": {
    "ExecuteTime": {
     "end_time": "2021-07-13T09:47:23.257045Z",
     "start_time": "2021-07-13T09:47:23.251606Z"
    }
   },
   "outputs": [],
   "source": [
    "def get_strain_whitenbp_data(fn_H1, fn_L1, fband, eventname):\n",
    "    \n",
    "    # get strain data\n",
    "    strain_H1, time_H1, chan_dict_H1 = rl.loaddata(fn_H1, 'H1')\n",
    "    strain_L1, time_L1, chan_dict_L1 = rl.loaddata(fn_L1, 'L1')\n",
    "\n",
    "    # both H1 and L1 will have the same time vector, so:\n",
    "    time = time_H1\n",
    "\n",
    "    # whiten, bandpass the data\n",
    "    strain_H1_whiten = whiten(strain_H1, large_data_psds[eventname]['H1'], dt)\n",
    "    strain_L1_whiten = whiten(strain_L1, large_data_psds[eventname]['L1'], dt)\n",
    "\n",
    "    strain_H1_whitenbp = bandpass(strain_H1_whiten, fband, fs)\n",
    "    strain_L1_whitenbp = bandpass(strain_L1_whiten, fband, fs)\n",
    "    \n",
    "    # return results as a dictionary for more intuitive access\n",
    "    total_data = {'H1': {'strain': strain_H1, 'strain_whiten': strain_H1_whiten,\n",
    "                         'strain_whitenbp': strain_H1_whitenbp}, 'L1': \n",
    "                  {'strain': strain_L1, 'strain_whiten': strain_L1_whiten, \n",
    "                   'strain_whitenbp': strain_L1_whitenbp}, 'time': time, 'dt': dt}\n",
    "                   \n",
    "    return total_data"
   ]
  },
  {
   "cell_type": "code",
   "execution_count": null,
   "metadata": {
    "ExecuteTime": {
     "end_time": "2021-07-13T09:47:24.438794Z",
     "start_time": "2021-07-13T09:47:24.376739Z"
    }
   },
   "outputs": [],
   "source": [
    "fn_H1_32 = 'H-H1_LOSC_4_V2-1126259446-32.hdf5'\n",
    "fn_L1_32 = 'L-L1_LOSC_4_V2-1126259446-32.hdf5'\n",
    "total_GW150914_data = get_strain_whitenbp_data(fn_H1_32, fn_L1_32, [35., 350.], 'GW150914')"
   ]
  },
  {
   "cell_type": "code",
   "execution_count": null,
   "metadata": {
    "ExecuteTime": {
     "end_time": "2021-07-13T09:47:24.804383Z",
     "start_time": "2021-07-13T09:47:24.797686Z"
    }
   },
   "outputs": [],
   "source": [
    "def plot_fourier_phases(data, time): \n",
    "    \"\"\"Plots Fourier phases of strain data.\n",
    "\n",
    "    Args:\n",
    "        data (ndarray): strain data\n",
    "        time (ndarray): time corresponding to data.\n",
    "    \"\"\"\n",
    "    # do this both with and without a spectral window\n",
    "    plt.figure(figsize=(8, 5))\n",
    "    tukey_window = signal.tukey(data.size, alpha=1./4),\n",
    "    labels = ['Tukey window', 'No window']\n",
    "    colors = ['red', 'blue']\n",
    "    \n",
    "    # apply each window and find phases of the fft\n",
    "    for i, dwindow in enumerate([tukey_window, 1]):\n",
    "        data_fft = xp.fft.rfft((data * dwindow).flatten()) * dt\n",
    "        datafreq = xp.fft.rfftfreq(data.size) / dt\n",
    "        phases = np.angle(data_fft)\n",
    "        # convert angles to range (0, 2 pi)\n",
    "        phases = (phases + 2 * xp.pi) % (2 * xp.pi)\n",
    "        plt.plot(datafreq, phases, '.', label=labels[i], \n",
    "                 color=colors[i], markersize=1)\n",
    "        \n",
    "    plt.xlim([30, 400])\n",
    "    plt.ylim([0, 6])\n",
    "    plt.xlabel('f(Hz)')\n",
    "    plt.ylabel('Phase')\n",
    "    plt.legend(loc='upper right', fontsize=7)"
   ]
  },
  {
   "cell_type": "code",
   "execution_count": null,
   "metadata": {
    "ExecuteTime": {
     "end_time": "2021-07-13T09:47:25.434516Z",
     "start_time": "2021-07-13T09:47:25.257816Z"
    }
   },
   "outputs": [],
   "source": [
    "indxt = xp.where((total_GW150914_data['time'] >= time_center - 2) & (\n",
    "    total_GW150914_data['time'] < time_center + 2))\n",
    "plot_fourier_phases(total_GW150914_data['H1']['strain'][indxt],\n",
    "                    total_GW150914_data['time'][indxt])"
   ]
  },
  {
   "cell_type": "markdown",
   "metadata": {},
   "source": [
    "Note that the fourier phases for properly windowed data (random noise) are random between [0, 2*pi];\n",
    "by contrast, un-windowed data produce strongly correlated fourier phases that are artifacts of the abrupt beginning and end of the data stretch."
   ]
  },
  {
   "cell_type": "markdown",
   "metadata": {},
   "source": [
    "## Define matched filter method to search for a waveform in data"
   ]
  },
  {
   "cell_type": "code",
   "execution_count": null,
   "metadata": {
    "ExecuteTime": {
     "end_time": "2021-07-13T09:47:26.796917Z",
     "start_time": "2021-07-13T09:47:26.788739Z"
    }
   },
   "outputs": [],
   "source": [
    "def matched_filter(template, data, time, data_psd, fs):\n",
    "    \"\"\"Runs the matched filter calculation given a specific real template, strain\n",
    "    data, time, psd, and sample rate. Finds the offset and phase to maximize\n",
    "    SNR, as well as effective distance and horizon\n",
    "\n",
    "    Args:\n",
    "        template (ndarray): real part of initial template corresponding to event\n",
    "        data (ndarray): strain data near event\n",
    "        time (ndarray): time near event\n",
    "        data_psd (interpolating function): psd of strain data around event\n",
    "        fs (float): sample rate of data\n",
    "    \n",
    "    Returns:\n",
    "        float: maximum SNR value obtained\n",
    "        float: time of maximum SNR value\n",
    "        float: effective distance found\n",
    "        float: horizon found\n",
    "        float: template phase which maximizes SNR\n",
    "        float: template offset which maximizes SNR\n",
    "    \"\"\"\n",
    "\n",
    "    # get the fourier frequencies of data for when we fft (for dividing by psd)\n",
    "    datafreq = xp.fft.fftfreq(template.size)*fs\n",
    "    df = xp.abs(datafreq[1] - datafreq[0])\n",
    "    # for taking the fft of our template and data\n",
    "    dwindow = signal.tukey(template.size, alpha=1./4)\n",
    "    # compute the template and data ffts.\n",
    "    template_fft = xp.fft.fft(template*dwindow) / fs\n",
    "    data_fft = xp.fft.fft(data*dwindow) / fs\n",
    "\n",
    "    # use the larger psd of the data calculated earlier for a better calculation\n",
    "    power_vec = list(map(data_psd, xp.abs(datafreq)))\n",
    "\n",
    "    # -- Zero out negative frequencies\n",
    "    negindx = xp.where(datafreq<0)\n",
    "    data_fft[negindx] = 0\n",
    "\n",
    "    # -- Calculate the matched filter output in the time domain: Multiply\n",
    "    # the Fourier Space template and data, and divide by the noise power in\n",
    "    # each frequency bin.  Taking the Inverse Fourier Transform (IFFT) of\n",
    "    # the filter output puts it back in the time domain, so the result will\n",
    "    # be plotted as a function of time off-set between the template and the\n",
    "    # data:\n",
    "    optimal = data_fft * template_fft.conjugate() / power_vec  \n",
    "    optimal_time = 4 * xp.fft.ifft(optimal) * fs\n",
    "\n",
    "    # -- Normalize the matched filter output: Normalize the matched filter\n",
    "    # output so that we expect an average value of 1 at times of just noise.  Then,\n",
    "    # the peak of the matched filter output will tell us the\n",
    "    # signal-to-noise ratio (SNR) of the signal.\n",
    "    sigmasq = 2 * (template_fft * template_fft.conjugate() / power_vec).sum() * df\n",
    "    sigma = xp.sqrt(np.abs(sigmasq))\n",
    "    SNR_complex = optimal_time/sigma\n",
    "\n",
    "    # shift the SNR vector by the template length so that the peak is at\n",
    "    # the end of the template\n",
    "    peaksample = int(data.size / 2)  # location of peak in the template\n",
    "    SNR_complex = xp.roll(SNR_complex,peaksample)\n",
    "    SNR = abs(SNR_complex)\n",
    "\n",
    "    # find the time and SNR value at maximum:\n",
    "    indmax = xp.argmax(SNR)\n",
    "    timemax = time[indmax]\n",
    "    SNRmax = SNR[indmax]\n",
    "\n",
    "    # Calculate the effective distance\n",
    "    d_eff = sigma / SNRmax\n",
    "    # -- Calculate optimal horizon distnace\n",
    "    horizon = sigma/8\n",
    "\n",
    "    # Extract time offset and phase at peak\n",
    "    phase = -xp.angle(SNR_complex[indmax])\n",
    "    offset = (indmax-peaksample)\n",
    "\n",
    "    return SNRmax, timemax, d_eff, horizon, phase, offset"
   ]
  },
  {
   "cell_type": "markdown",
   "metadata": {},
   "source": [
    "## Define helper function to apply time and phase shifts"
   ]
  },
  {
   "cell_type": "code",
   "execution_count": null,
   "metadata": {
    "ExecuteTime": {
     "end_time": "2021-07-13T09:47:27.792301Z",
     "start_time": "2021-07-13T09:47:27.785733Z"
    }
   },
   "outputs": [],
   "source": [
    "def get_shifted_data(template_p, strain, time, strain_whiten,\n",
    "                     strain_whitenbp, fband, filter_data, data_psd):\n",
    "    \"\"\"Obtains data shifts of templates and residual data after having found the\n",
    "    best fit phase and offsets for the template.\n",
    "    \n",
    "    Args:\n",
    "        template_p (ndarray): real (plus-polarization) part of template\n",
    "        strain (ndarray): strain data\n",
    "        time (ndarray): time\n",
    "        strain_whiten (ndarray): whitened strain data\n",
    "        strain_whitenbp (ndarray): whitened and bandpassed strain data\n",
    "        fband (list): low and high pass filters for the template bandpass \n",
    "        filter_data (dict): dictionary containing phase, offset, d_eff values \n",
    "            for given matched filter calculation\n",
    "        data_psd (interpolating function): function which outputs a power value\n",
    "            for a given data frequency \n",
    "\n",
    "    Returns:\n",
    "        ndarray: whitened, bandpassed, phaseshifted and offset template\n",
    "        ndarray: phaseshifted and offset residual data\n",
    "        ndarray: whitened, phaseshifted and offset residual data\n",
    "        ndarray: whitened, bandpassed, phaseshifted and offset residual data\n",
    "    \"\"\"\n",
    "    d_eff = filter_data['d_eff']\n",
    "    phase = filter_data['phase']\n",
    "    offset = filter_data['offset']\n",
    "\n",
    "    # apply time and phase shift to template- we'll do this in the freq domain\n",
    "    Nt = len(template_p)\n",
    "    freqs = xp.fft.rfftfreq(Nt, dt)\n",
    "    # apply the fft, also scaling initial amplitude\n",
    "    hf = xp.fft.rfft(template_p / d_eff)\n",
    "    # apply phase shift, time offset\n",
    "    hf = hf * xp.exp(-1.j * 2 * xp.pi * (offset * dt) * freqs - 1.j * phase)\n",
    "    # transform back\n",
    "    template_shifted = xp.real(xp.fft.irfft(hf, n=Nt))\n",
    "\n",
    "    # whiten and bandpass template_p for plotting- also applying phase shift,\n",
    "    # amplitude scale\n",
    "    template_whitened = whiten(template_p / d_eff, data_psd, dt,\n",
    "                               phase_shift=phase, time_shift=(offset * dt))\n",
    "    template_match = bandpass(template_whitened, fband, 1. / dt)\n",
    "\n",
    "    # save the residual for later\n",
    "    resid_data_whiten= strain_whiten - template_whitened\n",
    "    resid_data_whitenbp = strain_whitenbp - template_match\n",
    "\n",
    "    # save the nonbandpassed, nonwhitened residual as well\n",
    "    resid_data = strain - template_shifted\n",
    "    return template_match, resid_data, resid_data_whiten, resid_data_whitenbp"
   ]
  },
  {
   "cell_type": "markdown",
   "metadata": {},
   "source": [
    "## Wrapper method to calculate and plot the matched filter results for both H1 and L1"
   ]
  },
  {
   "cell_type": "code",
   "execution_count": null,
   "metadata": {
    "ExecuteTime": {
     "end_time": "2021-07-13T09:47:28.772591Z",
     "start_time": "2021-07-13T09:47:28.761093Z"
    }
   },
   "outputs": [],
   "source": [
    "# calculate matched filter between actual template\n",
    "def calculate_matched_filter(template_p, eventname, t_amount,\n",
    "                             total_data, make_plots=False,\n",
    "                             print_vals=True):\n",
    "    \"\"\"Calculates the best-fit template phase, offset, d_eff, horizon, and SNRmax\n",
    "    values for both detectors on a given stretch of data given the desires\n",
    "    template. Also can plot template shifts/residual data and print the\n",
    "    parameters found.\n",
    "    \n",
    "    Args:\n",
    "        template_p (ndarray): plus polarization of template\n",
    "        event (dict): subdictionary of BBH-events containing event parameters\n",
    "        t_amount (float): amount of time (s) around event to calcualate the\n",
    "            matched filter\n",
    "        total_data (dict): dict containing original and whitenbp strain data\n",
    "        make_plots (bool, optional): if True, plot template shifts, \n",
    "            whitened data, and residuals for each det.\n",
    "        print_vals (bool, optional): if True, output params found\n",
    "    \n",
    "    Returns:\n",
    "        dict: dictionary of parameters found and residual data for each detector\n",
    "    \"\"\"\n",
    "    \n",
    "    # these specific values are defined in the paper\n",
    "    fband = [35.0, 350.0]\n",
    "    \n",
    "    time = total_data['time']\n",
    "\n",
    "    # these dictionaries will be returned with our matched filter data and\n",
    "    # residuals\n",
    "    filter_data = {'H1': {}, 'L1': {}}\n",
    "    \n",
    "    # amount of data we want to calculate matched filter SNR over- up to 32s\n",
    "    data_time_window = time[len(time) - 1] - time[0] - (32 - t_amount)\n",
    "\n",
    "    time_filter_window = np.where((time <= time_center + data_time_window * .5) &\n",
    "                                  (time >= time_center - data_time_window * .5))\n",
    "    time_filtered = time[time_filter_window]\n",
    "    template_p = template_p[time_filter_window]\n",
    "\n",
    "    # define the template using only the plus polarization\n",
    "    template = template_p\n",
    "\n",
    "    # construct subplot now before looping\n",
    "    if make_plots:\n",
    "        fig, axes = plt.subplots(4, 1, figsize=(8, 8), sharex=True)\n",
    "\n",
    "    # loop over the detectors\n",
    "    dets = ['H1', 'L1']\n",
    "    for i, det in enumerate(dets):\n",
    "        strain = total_data[det]['strain'][time_filter_window]\n",
    "        strain_whiten = total_data[det]['strain_whiten'][time_filter_window]\n",
    "        strain_whitenbp = total_data[det]['strain_whitenbp'][time_filter_window]\n",
    "        data_psd = large_data_psds[eventname][det]\n",
    "\n",
    "        # save the time for later\n",
    "        filter_data[det]['time'] = time_filtered\n",
    "\n",
    "        # find the best fit phase, offset, d_eff, horizon\n",
    "        SNRmax, timemax, d_eff, horizon, phase, offset = matched_filter(\n",
    "            template, strain, time_filtered, data_psd, fs)\n",
    "\n",
    "        # save these vals for later\n",
    "        filter_data[det]['SNR'] = SNRmax\n",
    "        filter_data[det]['d_eff'] = d_eff\n",
    "        filter_data[det]['phase'] = phase\n",
    "        filter_data[det]['offset'] = offset\n",
    "\n",
    "        if (print_vals):\n",
    "            print(\"The phase offset is {0:.3f} radians\".format(phase))\n",
    "            print('For detector {0}, maximum at {1:.4f} with SNR = {2:.1f}, ' \n",
    "                  .format(det, timemax, SNRmax))\n",
    "\n",
    "        # get residuals and whitened data/template\n",
    "        template_wbp, resid_data, resid_data_w, resid_data_wbp = get_shifted_data(\n",
    "            template_p, strain, time_filtered, strain_whiten,\n",
    "            strain_whitenbp, fband, filter_data[det], data_psd)\n",
    "            \n",
    "        filter_data[det]['residual'] = resid_data\n",
    "        filter_data[det]['residual_whiten'] = resid_data_w\n",
    "        filter_data[det]['residual_whitenbp'] = resid_data_wbp\n",
    "\n",
    "        if make_plots:\n",
    "            # plot whitened, phase and time shifted templates, data, residuals\n",
    "            ax = axes[i]\n",
    "            ax.plot(time_filtered - time_center, strain_whitenbp, 'b',\n",
    "                    label=det + ' data')\n",
    "            ax.plot(time_filtered - time_center, template_wbp, 'r',\n",
    "                    label=det + 'model')\n",
    "            ax.set_ylim([-8, 8])\n",
    "            ax.legend(loc='upper left')\n",
    "            \n",
    "            ax = axes[i + 2]\n",
    "            ax.plot(time_filtered - time_center, resid_data_wbp, 'k', \n",
    "                    label=det+' residual')\n",
    "            ax.set_ylim([-4, 4])\n",
    "            ax.legend(loc='upper left')\n",
    "            plt.xlim([.25, .46])\n",
    "            plt.xlabel('Time since {0:.4f}'.format(time_center))\n",
    "            \n",
    "    return filter_data"
   ]
  },
  {
   "cell_type": "markdown",
   "metadata": {},
   "source": [
    "## Read in, taper, and zero-pad the waveform template"
   ]
  },
  {
   "cell_type": "code",
   "execution_count": null,
   "metadata": {
    "ExecuteTime": {
     "end_time": "2021-07-13T09:47:29.851155Z",
     "start_time": "2021-07-13T09:47:29.703220Z"
    }
   },
   "outputs": [],
   "source": [
    "fig_template = np.genfromtxt('fig2-unfiltered-waveform-H.txt')\n",
    "\n",
    "# Remove the time vector\n",
    "fig_template = fig_template[:, 1]\n",
    "\n",
    "# Downsample this data to 4096 Hz\n",
    "fig_template = scipy.signal.resample(fig_template, int(len(fig_template)/4) )\n",
    "\n",
    "# apply a Tukey window to taper the ends of the template\n",
    "taper_window = signal.tukey(len(fig_template), alpha=.25)\n",
    "fig_template_tapered = fig_template * taper_window\n",
    "\n",
    "# -- Plot template before and after tapering\n",
    "template_time = np.arange(0.25, 0.25+len(fig_template_tapered)*dt,dt)\n",
    "plt.plot(template_time,fig_template, label='Before Taper')\n",
    "plt.plot(template_time, fig_template_tapered, label='Tapered')\n",
    "plt.xlabel('t(s)')\n",
    "plt.legend()\n",
    "\n",
    "# Now we need to pad this with 0s to make it the same amount of time as the data\n",
    "halfdatalen = int(16*fs)\n",
    "begin_add = halfdatalen - len(fig_template_tapered)\n",
    "\n",
    "# add last 2048 seconds\n",
    "fig_template_tapered = np.append(fig_template_tapered, (halfdatalen * [0]))\n",
    "# add beginning- almost 2048 seconds\n",
    "fig_template_tapered = np.append((int(begin_add) * [0]), fig_template_tapered)\n"
   ]
  },
  {
   "cell_type": "markdown",
   "metadata": {},
   "source": [
    "The effect of the tapering Tukey window is visible at the beginning of the template.  Tapering forces the template to have zero values at the ends, in order to avoid artefacts due to discontinuities when taking an FFT."
   ]
  },
  {
   "cell_type": "markdown",
   "metadata": {},
   "source": [
    "## Use the methods defined above to calculate the matched filter result for GW150914\n",
    "\n",
    "Note, the results of matched filtering are sensitive to small changes in PSD estimation, and so running similar codes may not give identical results.   The calculated SNR is particularly sensitive, and differences of a few percent between different implementations are typically expected."
   ]
  },
  {
   "cell_type": "code",
   "execution_count": null,
   "metadata": {
    "ExecuteTime": {
     "end_time": "2021-07-13T09:47:32.366953Z",
     "start_time": "2021-07-13T09:47:31.176822Z"
    }
   },
   "outputs": [],
   "source": [
    "matched_filter_data = calculate_matched_filter(\n",
    "    fig_template_tapered, 'GW150914', 4, total_GW150914_data, make_plots=True)"
   ]
  },
  {
   "cell_type": "markdown",
   "metadata": {},
   "source": [
    "## Report results of matched filter"
   ]
  },
  {
   "cell_type": "code",
   "execution_count": null,
   "metadata": {
    "ExecuteTime": {
     "end_time": "2021-07-13T09:47:33.013969Z",
     "start_time": "2021-07-13T09:47:33.008464Z"
    }
   },
   "outputs": [],
   "source": [
    "print('Alpha values:')\n",
    "print(list(map(lambda det: {det: 1 / matched_filter_data[det]['d_eff']},\n",
    "          matched_filter_data.keys())))\n",
    "print('Phase difference between H1 and L1:')\n",
    "print(\"{0:.2f} radians\".format(matched_filter_data['H1']['phase'] - matched_filter_data['L1']['phase']))\n",
    "# have to multiply the offset by dt\n",
    "#dt = matched_filter_data['H1']['time'][1] - matched_filter_data['H1']['time'][0] \n",
    "print('Time offset between H1 and L1:')\n",
    "print(\"{0:.6f} seconds\".format((matched_filter_data['H1']['offset'] - matched_filter_data['L1']['offset'])*dt))\n",
    "print('Ratio of SNRs (H1_SNR/L1_SNR):') \n",
    "print(matched_filter_data['H1']['SNR'] / matched_filter_data['L1']['SNR'])"
   ]
  },
  {
   "cell_type": "markdown",
   "metadata": {},
   "source": [
    "## Plot template with best fit phase, time, and amplitude"
   ]
  },
  {
   "cell_type": "code",
   "execution_count": null,
   "metadata": {
    "ExecuteTime": {
     "end_time": "2021-07-13T09:47:34.078749Z",
     "start_time": "2021-07-13T09:47:34.070582Z"
    }
   },
   "outputs": [],
   "source": [
    "def plot_shifted_templates(matched_filter_data, total_data, template_p,\n",
    "                           t_amount):\n",
    "    \"\"\"Plots phaseshifted and offset templates given original shifts and offsets\n",
    "    found from the matched filter.\n",
    "\n",
    "    Args:\n",
    "        event (dict): subdictionary containing event parameters\n",
    "        matched_filter_data (dict): dictionary containing matched filter phases,\n",
    "            offsets, residuals\n",
    "        total_data (dict): dictionary containing original and whitenbp data\n",
    "        template_p (ndarray): plus polarization of template\n",
    "        t_amount (float): amount of time to plot templates over around event\n",
    "    \"\"\"\n",
    "    # get our previous time data around event\n",
    "    time = total_data['time']\n",
    "\n",
    "    # filter data around event depending on how many seconds we want to plot\n",
    "    time_filter = np.where((time >= time_center - t_amount) & \n",
    "                           (time <= time_center + t_amount))\n",
    "    time = time[time_filter]\n",
    "    template_p = template_p[time_filter]\n",
    "    dwindow = signal.tukey(template_p.size, alpha=1./4)\n",
    "\n",
    "    # set up plot axes and limits\n",
    "    fig, axes = plt.subplots(3, 1, figsize=(9, 5), sharex=True)\n",
    "    axes[0].set_ylabel('h(t)')\n",
    "    # plot original (windowed) template with same offset as first\n",
    "    axes[0].plot(time - time_center + matched_filter_data['H1']['offset'] / (\n",
    "        1.*fs), template_p * dwindow, 'black', label='Reference Template')\n",
    "    axes[0].legend(frameon=True)\n",
    "    plt.xlabel('t(s)')\n",
    "    plt.xlim([.2, .5])\n",
    "    \n",
    "    # keys are the detectors\n",
    "    # plot each template shifted from detector\n",
    "    for i, det in enumerate(matched_filter_data.keys()):\n",
    "        phase = matched_filter_data[det]['phase']\n",
    "        offset = matched_filter_data[det]['offset']\n",
    "        alpha = 1 / matched_filter_data[det]['d_eff']\n",
    "\n",
    "        # apply amp, time and phase shift to template- do this in the freq domain\n",
    "        Nt = len(template_p)\n",
    "        freqs = np.fft.rfftfreq(Nt, dt)\n",
    "        # apply the fft on windowed data, also scaling initial amplitude\n",
    "        hf = np.fft.rfft(template_p * dwindow) * alpha\n",
    "        # apply phase shift, time offset\n",
    "        hf = hf * np.exp(-1.j * 2 * np.pi * (offset * dt) * freqs - 1.j * phase)\n",
    "        # transform back\n",
    "        template_shifted = np.real(np.fft.irfft(hf, n=Nt))\n",
    "\n",
    "        axes[i + 1].plot(time - time_center, template_shifted, label=det)\n",
    "        axes[i + 1].legend(frameon=True)\n",
    "        axes[i + 1].set_ylabel('h(t)')\n",
    "\n",
    "    plt.show()"
   ]
  },
  {
   "cell_type": "code",
   "execution_count": null,
   "metadata": {
    "ExecuteTime": {
     "end_time": "2021-07-13T09:47:35.273584Z",
     "start_time": "2021-07-13T09:47:35.025214Z"
    }
   },
   "outputs": [],
   "source": [
    "plot_shifted_templates(matched_filter_data,\n",
    "                       total_GW150914_data, fig_template_tapered, 1)"
   ]
  },
  {
   "cell_type": "markdown",
   "metadata": {},
   "source": [
    "## Check for correlations in the residual detector noise"
   ]
  },
  {
   "cell_type": "code",
   "execution_count": null,
   "metadata": {
    "ExecuteTime": {
     "end_time": "2021-07-13T09:47:36.253814Z",
     "start_time": "2021-07-13T09:47:36.245368Z"
    }
   },
   "outputs": [],
   "source": [
    "def cross_correlate(d1, d2):\n",
    "    \"\"\"finds the cross-correlation between two arrays d1 and d2\"\"\"\n",
    "    return plt.xcorr(d1, d2, maxlags=len(d1) - 1)\n",
    "\n",
    "def get_correlation(H1_data, L1_data, time, t_min, t_max):\n",
    "    \"\"\"obtains the cross correlation between the H1 and L1 strain data arrays,\n",
    "    limited to times in between t_min and t_max of the corresponding time array.\n",
    "\n",
    "    Args:\n",
    "        H1_data (ndarray): H1 strain data\n",
    "        L1_data (ndarray): L1 strain data\n",
    "        time (ndarray): Time corresponding to both H1 and L1 data.\n",
    "        t_min (float): Minimum time for data cross-correlation\n",
    "        t_max (float): Maximum time for data cross-correlation\n",
    "    \n",
    "    Returns:\n",
    "        ndarray: cross-correlation values obtained\n",
    "        ndarray: time shifts for the given correlation values\n",
    "    \"\"\"\n",
    "    # we're only doing this between t_min and t_max\n",
    "    time_int = np.where((time >= t_min) & (time <= t_max))\n",
    "    H1_int = H1_data[time_int]\n",
    "    L1_int = L1_data[time_int]\n",
    "\n",
    "    correlation = cross_correlate(H1_int, L1_int)\n",
    "    lags = correlation[0]\n",
    "    corr = correlation[1]\n",
    "    # here we have one correlation value for each possible lag, total amount is\n",
    "    # 2 * len(t_int)\n",
    "    interval_len = (t_max - t_min)\n",
    "    time_diffs = np.linspace(-1 * interval_len, interval_len, len(corr))\n",
    "    return corr, time_diffs\n",
    "    \n",
    "def run_cross_corrs(resid_H1, resid_L1, resid_time, orig_H1, orig_L1,\n",
    "                    orig_time, t, s=.25, e=.46):\n",
    "    \"\"\"Runs 4 different cross correlations for the H1, L1 residual data and time,\n",
    "    the H1, L1 original strain data and time: Full interval, first half, last\n",
    "    half, and .39-43s.\n",
    "    \n",
    "    Args:\n",
    "        resid_H1 (ndarray): residual H1 data from event\n",
    "        resid_L1 (ndarray): residual L1 data from event\n",
    "        resid_time (ndarray): time corresponding to resid data\n",
    "        orig_H1 (ndarray): original H1 strain data from event\n",
    "        orig_L1 (ndarray): original L1 strain data from event\n",
    "        orig_time (ndarray): time corresponding to orig data\n",
    "        t (float): starting time of time interval\n",
    "        s (float): starting time of full correlation interval\n",
    "        e (float): ending time of full correlation interval\n",
    "    \n",
    "    Returns:\n",
    "        dict: dictionary containing residual correlation values, whose keys \n",
    "            are the various time intervals\n",
    "        dict: dictionary containing original strain correlation values, whose\n",
    "            keys are the various time intervals\n",
    "    \"\"\"\n",
    "    # define 4 different intervals for cross correlation\n",
    "    intervals = {'All 0.2s': (t + s, t + e), 'Last half': (t + s + .1, t + e), \n",
    "                'First half': (t + s, t + s + .1), '0.39s-0.43s': (t + .39, t + .43)}\n",
    "\n",
    "    resid_correlation_vals = {}\n",
    "    original_correlation_vals = {}\n",
    "    # go through and calculate for each interval\n",
    "    for key in intervals.keys():\n",
    "        interval = intervals[key]\n",
    "        resid_corr = get_correlation(resid_H1, resid_L1, resid_time,\n",
    "                                     interval[0], interval[1])\n",
    "        orig_corr = get_correlation(orig_H1, orig_L1, orig_time, interval[0],\n",
    "                                    interval[1])\n",
    "        resid_correlation_vals[key] = resid_corr\n",
    "        original_correlation_vals[key] = orig_corr\n",
    "        \n",
    "    return resid_correlation_vals, original_correlation_vals"
   ]
  },
  {
   "cell_type": "code",
   "execution_count": null,
   "metadata": {
    "ExecuteTime": {
     "end_time": "2021-07-13T09:47:37.033812Z",
     "start_time": "2021-07-13T09:47:36.812963Z"
    }
   },
   "outputs": [],
   "source": [
    "resid_H1_data = matched_filter_data['H1']['residual_whitenbp']\n",
    "resid_L1_data = matched_filter_data['L1']['residual_whitenbp']\n",
    "resid_time = matched_filter_data['L1']['time']\n",
    "orig_H1_data = total_GW150914_data['H1']['strain_whitenbp']\n",
    "orig_L1_data = total_GW150914_data['L1']['strain_whitenbp']\n",
    "orig_time = total_GW150914_data['time']\n",
    "\n",
    "resid_correlation_vals, original_correlation_vals = run_cross_corrs(\n",
    "    resid_H1_data, resid_L1_data, resid_time, orig_H1_data, orig_L1_data,\n",
    "    orig_time, 1126259462)\n",
    "# don't want to output plot here; matplotlib plots a plot with correlations \n",
    "# but we'll make our own\n",
    "plt.close()"
   ]
  },
  {
   "cell_type": "code",
   "execution_count": null,
   "metadata": {
    "ExecuteTime": {
     "end_time": "2021-07-13T09:47:37.483732Z",
     "start_time": "2021-07-13T09:47:37.433254Z"
    }
   },
   "outputs": [],
   "source": [
    "fig1_data = {'H1': {}, 'L1': {}}\n",
    "for det in fig1_data.keys():\n",
    "    for dtype in ['residual', 'observed']: \n",
    "        data = np.genfromtxt('fig1-%s-%s.txt'%(dtype, det[0]))\n",
    "        fig1_data[det][dtype] = {} \n",
    "        # split up strain and time\n",
    "        fig1_data[det][dtype]['time'] = data[:, 0]\n",
    "        fig1_data[det][dtype]['strain'] = data[:, 1]"
   ]
  },
  {
   "cell_type": "code",
   "execution_count": null,
   "metadata": {
    "ExecuteTime": {
     "end_time": "2021-07-13T09:47:38.939505Z",
     "start_time": "2021-07-13T09:47:38.001118Z"
    }
   },
   "outputs": [],
   "source": [
    "time = fig1_data['H1']['residual']['time']\n",
    "time_observed = fig1_data['H1']['observed']['time']\n",
    "resid_H1_data = fig1_data['H1']['residual']['strain']\n",
    "resid_L1_data = fig1_data['L1']['residual']['strain']\n",
    "observed_H1_data = fig1_data['H1']['observed']['strain']\n",
    "observed_L1_data = fig1_data['L1']['observed']['strain']\n",
    "\n",
    "fig_resid_correlation_vals, fig_observed_correlation_vals = run_cross_corrs(\n",
    "    resid_H1_data, resid_L1_data, time, observed_H1_data,\n",
    "    observed_L1_data, time_observed, 0)\n",
    "plt.close()"
   ]
  },
  {
   "cell_type": "code",
   "execution_count": null,
   "metadata": {
    "ExecuteTime": {
     "end_time": "2021-07-13T09:47:38.946218Z",
     "start_time": "2021-07-13T09:47:38.941896Z"
    }
   },
   "outputs": [],
   "source": [
    "def plot_correlation_vals_axis(correlation_vals, ax):\n",
    "    \"\"\"Plots correlations values obtained on a given axis object.\"\"\"\n",
    "    colors = {'First half': 'black', 'Last half': 'red', 'All 0.2s': 'blue',\n",
    "              '0.39s-0.43s': 'green'}\n",
    "    for key in correlation_vals.keys():\n",
    "        corr = correlation_vals[key]\n",
    "        # plot in ms instead of s\n",
    "        ax.plot(corr[1] * 1000, corr[0], colors[key], label=key)\n",
    "        \n",
    "    yVals = np.linspace(-1, 1, 1000)\n",
    "    ax.plot([7] * 1000, yVals, '--', color='gray', linewidth=.5)\n",
    "    ax.set_xlim(-20, 20)\n",
    "    ax.set_ylim(-1, 1)\n",
    "    ax.set_ylabel(r'C($\\tau$)')\n",
    "    ax.set_xlabel(r'$\\tau$ (ms)')\n",
    "    ax.legend(loc='upper left')"
   ]
  },
  {
   "cell_type": "code",
   "execution_count": null,
   "metadata": {
    "ExecuteTime": {
     "end_time": "2021-07-13T09:47:39.472175Z",
     "start_time": "2021-07-13T09:47:39.184821Z"
    }
   },
   "outputs": [],
   "source": [
    "corr_vals = [fig_observed_correlation_vals, original_correlation_vals,\n",
    "             fig_resid_correlation_vals, resid_correlation_vals]\n",
    "titles = ['Fig. 1 PRL', 'This Paper']\n",
    "\n",
    "def plot_subplot(corr_vals, titles):\n",
    "    \"\"\"Plots correlation values and titles on the same subplot.\"\"\"\n",
    "    fig, axes = plt.subplots(2, 1, sharex=True, figsize=(7, 5))\n",
    "    fig.subplots_adjust(hspace=0)\n",
    "    for i, ax in enumerate(axes):\n",
    "        plot_correlation_vals_axis(corr_vals[i], ax) \n",
    "        ax.set_title(titles[i])\n",
    "        \n",
    "plot_subplot(corr_vals[:2], titles)"
   ]
  },
  {
   "cell_type": "markdown",
   "metadata": {},
   "source": [
    "Above, calculating cross correlations between the Hanford and Livingston data shows evidence of the signal at a shift of around 7 ms."
   ]
  },
  {
   "cell_type": "code",
   "execution_count": null,
   "metadata": {
    "ExecuteTime": {
     "end_time": "2021-07-13T09:47:41.632749Z",
     "start_time": "2021-07-13T09:47:41.365910Z"
    }
   },
   "outputs": [],
   "source": [
    "plot_subplot(corr_vals[2:], titles)"
   ]
  },
  {
   "cell_type": "markdown",
   "metadata": {},
   "source": [
    "As discussed in the associated paper, the residuals displayed in Fig 1 the GW150914 discovery paper, which made use of a less-than-optimal signal subtraction,  show some evidence of correlations (top panel). However, in this notebook, we make use of a maximum likelihood procedure for signal subtraction, which leaves residuals with no evidence of correlations."
   ]
  },
  {
   "cell_type": "markdown",
   "metadata": {},
   "source": [
    "## Rough"
   ]
  },
  {
   "cell_type": "code",
   "execution_count": null,
   "metadata": {
    "ExecuteTime": {
     "end_time": "2021-07-27T06:34:14.496412Z",
     "start_time": "2021-07-27T06:34:14.479137Z"
    }
   },
   "outputs": [],
   "source": [
    "# x = np.arange(10).reshape(5,2)\n",
    "# nperseg = 2\n",
    "# noverlap = 1\n",
    "# step = nperseg - noverlap\n",
    "# shape = x.shape[:-1]+((x.shape[-1]-noverlap)//step, nperseg)\n",
    "# strides = x.strides[:-1]+(step*x.strides[-1], x.strides[-1])\n",
    "# result = np.lib.stride_tricks.as_strided(x, shape=shape,\n",
    "#                                          strides=strides)\n",
    "# print(shape, stride, result)\n",
    "\n",
    "# x = torch.arange(10).reshape(5,2)\n",
    "# nperseg = 2\n",
    "# noverlap = 1\n",
    "# step = nperseg - noverlap\n",
    "# shape = x.shape[:-1]+((x.shape[-1]-noverlap)//step, nperseg)\n",
    "# stride = x.stride()[:-1]+(step*x.stride(-1), x.stride(-1))\n",
    "# result = torch.as_strided(x, size=shape, stride=stride)\n",
    "# print(shape, stride, result)"
   ]
  },
  {
   "cell_type": "code",
   "execution_count": null,
   "metadata": {
    "ExecuteTime": {
     "end_time": "2021-07-27T07:23:45.374547Z",
     "start_time": "2021-07-27T07:23:45.368739Z"
    }
   },
   "outputs": [],
   "source": [
    "a = np.ones((3,4,5,6))\n",
    "np.rollaxis(a, 0, len(x.shape)).shape, np.rollaxis(a, 2).shape, np.rollaxis(a, 1, 4).shape"
   ]
  },
  {
   "cell_type": "code",
   "execution_count": null,
   "metadata": {
    "ExecuteTime": {
     "end_time": "2021-07-27T07:23:35.105355Z",
     "start_time": "2021-07-27T07:23:35.101018Z"
    }
   },
   "outputs": [],
   "source": [
    "np.moveaxis(a, 1, len(x.shape)).shape"
   ]
  },
  {
   "cell_type": "code",
   "execution_count": null,
   "metadata": {
    "ExecuteTime": {
     "end_time": "2021-07-27T07:14:11.513093Z",
     "start_time": "2021-07-27T07:14:11.508230Z"
    }
   },
   "outputs": [],
   "source": [
    "a = torch.ones((3,4,5,6))\n",
    "# a.type(torch.float64)"
   ]
  },
  {
   "cell_type": "code",
   "execution_count": null,
   "metadata": {
    "ExecuteTime": {
     "end_time": "2021-07-27T07:23:30.625634Z",
     "start_time": "2021-07-27T07:23:30.620691Z"
    }
   },
   "outputs": [],
   "source": [
    "len(x.shape)"
   ]
  },
  {
   "cell_type": "code",
   "execution_count": null,
   "metadata": {},
   "outputs": [],
   "source": []
  }
 ],
 "metadata": {
  "kernelspec": {
   "display_name": "Python 3 (ipykernel)",
   "language": "python",
   "name": "python3"
  },
  "language_info": {
   "codemirror_mode": {
    "name": "ipython",
    "version": 3
   },
   "file_extension": ".py",
   "mimetype": "text/x-python",
   "name": "python",
   "nbconvert_exporter": "python",
   "pygments_lexer": "ipython3",
   "version": "3.9.6"
  }
 },
 "nbformat": 4,
 "nbformat_minor": 2
}
